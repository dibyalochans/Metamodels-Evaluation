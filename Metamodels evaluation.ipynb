{
  "nbformat": 4,
  "nbformat_minor": 0,
  "metadata": {
    "colab": {
      "name": "final_project.ipynb",
      "provenance": [],
      "collapsed_sections": []
    },
    "kernelspec": {
      "name": "python3",
      "display_name": "Python 3"
    }
  },
  "cells": [
    {
      "cell_type": "markdown",
      "metadata": {
        "id": "tMbAwKIkm5XJ"
      },
      "source": [
        "# ***Installation of libraries***"
      ]
    },
    {
      "cell_type": "code",
      "metadata": {
        "id": "AkDXCuIRnDdn",
        "colab": {
          "base_uri": "https://localhost:8080/"
        },
        "outputId": "faea17a9-1c24-49b3-ad3d-744b60fa6cf4"
      },
      "source": [
        "!pip install smt\n"
      ],
      "execution_count": null,
      "outputs": [
        {
          "output_type": "stream",
          "text": [
            "Collecting smt\n",
            "  Downloading smt-1.0.0.tar.gz (248 kB)\n",
            "\u001b[?25l\r\u001b[K     |█▎                              | 10 kB 23.6 MB/s eta 0:00:01\r\u001b[K     |██▋                             | 20 kB 12.2 MB/s eta 0:00:01\r\u001b[K     |████                            | 30 kB 9.0 MB/s eta 0:00:01\r\u001b[K     |█████▎                          | 40 kB 8.1 MB/s eta 0:00:01\r\u001b[K     |██████▋                         | 51 kB 4.1 MB/s eta 0:00:01\r\u001b[K     |████████                        | 61 kB 4.4 MB/s eta 0:00:01\r\u001b[K     |█████████▎                      | 71 kB 4.6 MB/s eta 0:00:01\r\u001b[K     |██████████▋                     | 81 kB 5.1 MB/s eta 0:00:01\r\u001b[K     |███████████▉                    | 92 kB 5.2 MB/s eta 0:00:01\r\u001b[K     |█████████████▏                  | 102 kB 4.0 MB/s eta 0:00:01\r\u001b[K     |██████████████▌                 | 112 kB 4.0 MB/s eta 0:00:01\r\u001b[K     |███████████████▉                | 122 kB 4.0 MB/s eta 0:00:01\r\u001b[K     |█████████████████▏              | 133 kB 4.0 MB/s eta 0:00:01\r\u001b[K     |██████████████████▌             | 143 kB 4.0 MB/s eta 0:00:01\r\u001b[K     |███████████████████▉            | 153 kB 4.0 MB/s eta 0:00:01\r\u001b[K     |█████████████████████▏          | 163 kB 4.0 MB/s eta 0:00:01\r\u001b[K     |██████████████████████▍         | 174 kB 4.0 MB/s eta 0:00:01\r\u001b[K     |███████████████████████▊        | 184 kB 4.0 MB/s eta 0:00:01\r\u001b[K     |█████████████████████████       | 194 kB 4.0 MB/s eta 0:00:01\r\u001b[K     |██████████████████████████▍     | 204 kB 4.0 MB/s eta 0:00:01\r\u001b[K     |███████████████████████████▊    | 215 kB 4.0 MB/s eta 0:00:01\r\u001b[K     |█████████████████████████████   | 225 kB 4.0 MB/s eta 0:00:01\r\u001b[K     |██████████████████████████████▍ | 235 kB 4.0 MB/s eta 0:00:01\r\u001b[K     |███████████████████████████████▊| 245 kB 4.0 MB/s eta 0:00:01\r\u001b[K     |████████████████████████████████| 248 kB 4.0 MB/s \n",
            "\u001b[?25h  Installing build dependencies ... \u001b[?25l\u001b[?25hdone\n",
            "  Getting requirements to build wheel ... \u001b[?25l\u001b[?25hdone\n",
            "    Preparing wheel metadata ... \u001b[?25l\u001b[?25hdone\n",
            "Collecting pyDOE2\n",
            "  Downloading pyDOE2-1.3.0.tar.gz (19 kB)\n",
            "Requirement already satisfied: scipy in /usr/local/lib/python3.7/dist-packages (from smt) (1.4.1)\n",
            "Requirement already satisfied: scikit-learn in /usr/local/lib/python3.7/dist-packages (from smt) (0.22.2.post1)\n",
            "Requirement already satisfied: packaging in /usr/local/lib/python3.7/dist-packages (from smt) (21.0)\n",
            "Collecting numpydoc\n",
            "  Downloading numpydoc-1.1.0-py3-none-any.whl (47 kB)\n",
            "\u001b[K     |████████████████████████████████| 47 kB 3.7 MB/s \n",
            "\u001b[?25hRequirement already satisfied: matplotlib in /usr/local/lib/python3.7/dist-packages (from smt) (3.2.2)\n",
            "Requirement already satisfied: pyparsing!=2.0.4,!=2.1.2,!=2.1.6,>=2.0.1 in /usr/local/lib/python3.7/dist-packages (from matplotlib->smt) (2.4.7)\n",
            "Requirement already satisfied: python-dateutil>=2.1 in /usr/local/lib/python3.7/dist-packages (from matplotlib->smt) (2.8.1)\n",
            "Requirement already satisfied: cycler>=0.10 in /usr/local/lib/python3.7/dist-packages (from matplotlib->smt) (0.10.0)\n",
            "Requirement already satisfied: kiwisolver>=1.0.1 in /usr/local/lib/python3.7/dist-packages (from matplotlib->smt) (1.3.1)\n",
            "Requirement already satisfied: numpy>=1.11 in /usr/local/lib/python3.7/dist-packages (from matplotlib->smt) (1.19.5)\n",
            "Requirement already satisfied: six in /usr/local/lib/python3.7/dist-packages (from cycler>=0.10->matplotlib->smt) (1.15.0)\n",
            "Requirement already satisfied: sphinx>=1.6.5 in /usr/local/lib/python3.7/dist-packages (from numpydoc->smt) (1.8.5)\n",
            "Requirement already satisfied: Jinja2>=2.3 in /usr/local/lib/python3.7/dist-packages (from numpydoc->smt) (2.11.3)\n",
            "Requirement already satisfied: MarkupSafe>=0.23 in /usr/local/lib/python3.7/dist-packages (from Jinja2>=2.3->numpydoc->smt) (2.0.1)\n",
            "Requirement already satisfied: docutils>=0.11 in /usr/local/lib/python3.7/dist-packages (from sphinx>=1.6.5->numpydoc->smt) (0.17.1)\n",
            "Requirement already satisfied: snowballstemmer>=1.1 in /usr/local/lib/python3.7/dist-packages (from sphinx>=1.6.5->numpydoc->smt) (2.1.0)\n",
            "Requirement already satisfied: imagesize in /usr/local/lib/python3.7/dist-packages (from sphinx>=1.6.5->numpydoc->smt) (1.2.0)\n",
            "Requirement already satisfied: setuptools in /usr/local/lib/python3.7/dist-packages (from sphinx>=1.6.5->numpydoc->smt) (57.2.0)\n",
            "Requirement already satisfied: babel!=2.0,>=1.3 in /usr/local/lib/python3.7/dist-packages (from sphinx>=1.6.5->numpydoc->smt) (2.9.1)\n",
            "Requirement already satisfied: Pygments>=2.0 in /usr/local/lib/python3.7/dist-packages (from sphinx>=1.6.5->numpydoc->smt) (2.6.1)\n",
            "Requirement already satisfied: requests>=2.0.0 in /usr/local/lib/python3.7/dist-packages (from sphinx>=1.6.5->numpydoc->smt) (2.23.0)\n",
            "Requirement already satisfied: sphinxcontrib-websupport in /usr/local/lib/python3.7/dist-packages (from sphinx>=1.6.5->numpydoc->smt) (1.2.4)\n",
            "Requirement already satisfied: alabaster<0.8,>=0.7 in /usr/local/lib/python3.7/dist-packages (from sphinx>=1.6.5->numpydoc->smt) (0.7.12)\n",
            "Requirement already satisfied: pytz>=2015.7 in /usr/local/lib/python3.7/dist-packages (from babel!=2.0,>=1.3->sphinx>=1.6.5->numpydoc->smt) (2018.9)\n",
            "Requirement already satisfied: chardet<4,>=3.0.2 in /usr/local/lib/python3.7/dist-packages (from requests>=2.0.0->sphinx>=1.6.5->numpydoc->smt) (3.0.4)\n",
            "Requirement already satisfied: certifi>=2017.4.17 in /usr/local/lib/python3.7/dist-packages (from requests>=2.0.0->sphinx>=1.6.5->numpydoc->smt) (2021.5.30)\n",
            "Requirement already satisfied: urllib3!=1.25.0,!=1.25.1,<1.26,>=1.21.1 in /usr/local/lib/python3.7/dist-packages (from requests>=2.0.0->sphinx>=1.6.5->numpydoc->smt) (1.24.3)\n",
            "Requirement already satisfied: idna<3,>=2.5 in /usr/local/lib/python3.7/dist-packages (from requests>=2.0.0->sphinx>=1.6.5->numpydoc->smt) (2.10)\n",
            "Requirement already satisfied: joblib>=0.11 in /usr/local/lib/python3.7/dist-packages (from scikit-learn->smt) (1.0.1)\n",
            "Requirement already satisfied: sphinxcontrib-serializinghtml in /usr/local/lib/python3.7/dist-packages (from sphinxcontrib-websupport->sphinx>=1.6.5->numpydoc->smt) (1.1.5)\n",
            "Building wheels for collected packages: smt, pyDOE2\n",
            "  Building wheel for smt (PEP 517) ... \u001b[?25l\u001b[?25hdone\n",
            "  Created wheel for smt: filename=smt-1.0.0-cp37-cp37m-linux_x86_64.whl size=522147 sha256=881ed56a972d2ee3115f401c95e41b0c7107f07ba1c7a68c980915f563617765\n",
            "  Stored in directory: /root/.cache/pip/wheels/42/e6/ef/c78c5dc521a6d99898ea8842ffcdfb4d8854f39af1a438bc7a\n",
            "  Building wheel for pyDOE2 (setup.py) ... \u001b[?25l\u001b[?25hdone\n",
            "  Created wheel for pyDOE2: filename=pyDOE2-1.3.0-py3-none-any.whl size=25538 sha256=51f330419f3172db2afcbfb75bbd549a3a5d0c80f71a8b7040bb7ae9a89f7056\n",
            "  Stored in directory: /root/.cache/pip/wheels/49/91/2d/d08e80806bf7756193541f6c03c0492af288fcd6158d3d0998\n",
            "Successfully built smt pyDOE2\n",
            "Installing collected packages: pyDOE2, numpydoc, smt\n",
            "Successfully installed numpydoc-1.1.0 pyDOE2-1.3.0 smt-1.0.0\n"
          ],
          "name": "stdout"
        }
      ]
    },
    {
      "cell_type": "code",
      "metadata": {
        "id": "Tfd2IB0XnwJa"
      },
      "source": [
        "!pip install xgboost"
      ],
      "execution_count": null,
      "outputs": []
    },
    {
      "cell_type": "code",
      "metadata": {
        "id": "QKW-papOoMJw"
      },
      "source": [
        "import numpy as np\n",
        "import math"
      ],
      "execution_count": null,
      "outputs": []
    },
    {
      "cell_type": "markdown",
      "metadata": {
        "id": "QR6dAtDrpVMp"
      },
      "source": [
        "# ***Test functions*** "
      ]
    },
    {
      "cell_type": "code",
      "metadata": {
        "id": "SQWxD6ydjiFx"
      },
      "source": [
        "def q_5(x):\n",
        "  a=np.array([1.0,1.2,3.0,3.2])\n",
        "  A=np.array([[3.0,10,30],[0.1,10,35],[3.0,10,30],[0.1,10,35]])\n",
        "  p=np.array([[0.3689,0.1170,0.2673,],[0.4699,0.4387,0.7470],[0.1091,0.8732,0.5547],[0.0381,0.5743,0.8828]])\n",
        "  fun_exp=np.zeros((len(x),1))\n",
        "  for k in range(len(x)):\n",
        "    sum=0  #sum: sum of the terms for i=1to4 in the question\n",
        "    for i in range(4):\n",
        "      sum_1=0  #sum_1: for j=1to3 in the question \n",
        "      for j in range(3):\n",
        "        sum_1= sum_1+A[i,j]*(x[k,j]-p[i,j])**2\n",
        "      sum=sum+a[i]*math.exp((-1)*sum_1)\n",
        "    fun_exp[k]=(-1)*sum\n",
        "  return fun_exp\n",
        "#q_6\n",
        "def q_6(x):\n",
        "  a=np.array([1.0,1.2,3.0,3.2])\n",
        "  A=np.array([[10.0,0.05,3.0,17.0],[3,10,3.5,8],[17,17,1.7,0.05],[3.5,0.1,10,10]])\n",
        "  p=np.array([[0.1312,0.2329,0.2348,0.4047],[0.1696,0.4135,0.1451,0.8828],[0.5569,0.8307,0.3522,0.8732],[0.0124,0.3736,0.2883,0.5743]])\n",
        "  fun_exp=np.zeros((len(x),1))\n",
        "  for k in range(len(x)):\n",
        "    sum=0\n",
        "    for i in range(4):\n",
        "      sum_1=0\n",
        "      for j in range(4):\n",
        "        sum_1=sum_1+A[j,i]*(x[k,j]-p[j,i])**2\n",
        "      sum=sum+a[i]*math.exp((-1)*sum_1)\n",
        "    fun_exp[k]=(1/0.839)*(1.1-sum)\n",
        "  return fun_exp\n",
        "#q_11\n",
        "def q_11(x):\n",
        "  fun_exp=np.zeros((len(x),1))\n",
        "  for i in range(len(x)):\n",
        "    m=x[i,0]\n",
        "    s=x[i,1]\n",
        "    v0=x[i,2]\n",
        "    k=x[i,3]\n",
        "    p0=x[i,4]\n",
        "    t=x[i,5]\n",
        "    t0=x[i,6]\n",
        "    A=p0*s+19.62*m-(k*v0/s)\n",
        "    v=(s/(2*k))*(math.sqrt((A**2)+(4*k*p0*v0*t/t0)-A))\n",
        "    fun_exp[i]=2*math.pi*(math.sqrt(m/(k+(s**2)*p0*v0*t/(t0*(v**2)))))\n",
        "  return fun_exp\n",
        "#q_12\n",
        "def q_12(theta):\n",
        "  fun_exp=np.zeros((len(theta),1))\n",
        "  for i in range(len(theta)):\n",
        "    def u():\n",
        "      sum=0\n",
        "      for j in range(4):\n",
        "        sum_1=0\n",
        "        for k in range(4,j+4):\n",
        "          sum_1=sum_1+theta[i,k]\n",
        "        sum=sum+theta[i,j+4]*math.cos(sum_1)\n",
        "      return sum\n",
        "    def v():\n",
        "      sum=0\n",
        "      for j in range(4):\n",
        "        sum_1=0\n",
        "        for k in range(4,j+4):\n",
        "          sum_1=sum_1+theta[i,k]\n",
        "        sum=sum+theta[i,j+4]*math.sin(sum_1)\n",
        "      return sum\n",
        "    fun_exp[i]=math.sqrt((u())**2+(v())**2)\n",
        "  return fun_exp\n",
        "#q_17\n",
        "def q_17(x):\n",
        "  fun_exp=np.zeros((len(x),1))\n",
        "  for k in range(len(x)):\n",
        "    sum=0\n",
        "    for i in range(13):\n",
        "      sum=sum+(i+2)*(2*(x[k,i+1])**2-x[k,i])**2\n",
        "    fun_exp[k]= (x[k,0]-1)**2+sum\n",
        "  return fun_exp\n",
        "#q_18\n",
        "def q_18(x):\n",
        "  fun_exp=np.zeros((len(x),1))\n",
        "  for k in range(len(x)):\n",
        "    sum=0\n",
        "    for i in range(17):\n",
        "      sum=sum+100*(x[k,i+1]-(x[k,i])**2)**2+(x[k,i]-1)**2\n",
        "    fun_exp[k]=sum\n",
        "  return fun_exp\n",
        "\n",
        "\n",
        "\n"
      ],
      "execution_count": null,
      "outputs": []
    },
    {
      "cell_type": "markdown",
      "metadata": {
        "id": "kV_GTmfyp-z-"
      },
      "source": [
        "# ***Generation of DoE***"
      ]
    },
    {
      "cell_type": "code",
      "metadata": {
        "id": "ciC-n5qGqmwI"
      },
      "source": [
        "from smt.sampling_methods import LHS\n",
        "def generate_data(bounds, n_doe, test_func):\n",
        "  sampling=LHS(xlimits=bounds,criterion='m')\n",
        "  data_x=sampling(n_doe)\n",
        "  data_y=test_func(data_x)\n",
        "  return data_x, data_y\n",
        "  "
      ],
      "execution_count": null,
      "outputs": []
    },
    {
      "cell_type": "markdown",
      "metadata": {
        "id": "rcZYU24LrCDk"
      },
      "source": [
        "## ***Meta Models***"
      ]
    },
    {
      "cell_type": "code",
      "metadata": {
        "id": "BYKAnt-ArM69"
      },
      "source": [
        "def group_1_srgts(train_data):\n",
        "  data_x=train_data[0]\n",
        "  data_y=train_data[1]\n",
        "  from metamodels import prs_srgt\n",
        "  srgt_prs= prs_srgt(data_x, data_y, degree = 2)\n",
        "  from metamodels import rbf_srgt\n",
        "  srgt_rbf= rbf_srgt(data_x, data_y, sigma =100)\n",
        "  from metamodels import kriging_srgt\n",
        "  srgt_kriging= kriging_srgt(data_x, data_y, poly='constant', corr='squar_exp', theta=[0.01])\n",
        "  from metamodels import svr_srgt\n",
        "  srgt_svr=svr_srgt(data_x, data_y,kernel='rbf',C=100,degree =2,epsilon=0.02)\n",
        "  from metamodels import gbm_srgt\n",
        "  srgt_gbm = gbm_srgt(data_x,data_y,params = {'n_estimators': 500, 'max_depth': 4, 'min_samples_split': 2,'learning_rate': 0.01, 'loss': 'ls'})\n",
        "  from metamodels import elastic_net_srgt\n",
        "  srgt_elastic_net= elastic_net_srgt(data_x,data_y,degree = 2, l1_ratios = [0.1, 0.5, 0.9], alphas = (0.1,1.0,10.0))\n",
        "  from metamodels import xgboost_srgt\n",
        "  srgt_xgboost=xgboost_srgt(data_x,data_y)\n",
        "  list=np.array([srgt_prs, srgt_rbf, srgt_kriging, srgt_svr, srgt_gbm, srgt_elastic_net, srgt_xgboost])\n",
        "  return list\n"
      ],
      "execution_count": null,
      "outputs": []
    },
    {
      "cell_type": "markdown",
      "metadata": {
        "id": "LRkUYyA-sWAN"
      },
      "source": [
        "## ***Defining the Metrics***"
      ]
    },
    {
      "cell_type": "code",
      "metadata": {
        "id": "A4yjOghrseyZ"
      },
      "source": [
        "# Function to compute error metrics for different surrogates\n",
        "def metrics(test_data_x,test_data_y,srgt):\n",
        "  import numpy as np\n",
        "  test_data_y_range = np.max(test_data_y)-np.min(test_data_y)  \n",
        "  \n",
        "  # For RBF and KRG\n",
        "  if (srgt==srgt_rbf or srgt==srgt_krg):\n",
        "    test_ypred = np.concatenate(srgt.predict_values(test_data_x))\n",
        "    rmse = math.sqrt(np.mean((test_ypred-test_data_y)**2))\n",
        "    nrmse = rmse/test_data_y_range\n",
        "\n",
        "  # For remaining surrogates\n",
        "  else:\n",
        "    test_ypred = srgt.predict(test_data_x)\n",
        "    rmse = math.sqrt(np.mean((test_ypred-test_data_y)**2))\n",
        "    nrmse = rmse/test_data_y_range\n",
        "  return nrmse"
      ],
      "execution_count": null,
      "outputs": []
    },
    {
      "cell_type": "code",
      "metadata": {
        "id": "19fjBC2j-E_x"
      },
      "source": [
        "def grp_1_metrics(test_data):\n",
        "  test_data_x=test_data[0]\n",
        "  test_data_y=test_data[1]\n",
        "  nrmse_prs=metrics(test_data_x,test_data_y,srgt_prs)\n",
        "  nrmse_rbf=metrics(test_data_x,test_data_y,srgt_rbf)\n",
        "  nrmse_krg=metrics(test_data_x,test_data_y,srgt_krg)\n",
        "  nrmse_elastic_net=metrics(test_data_x,test_data_y,srgt_elastic_net)\n",
        "  nrmse_svr=metrics(test_data_x,test_data_y,srgt_svr)\n",
        "  nrmse_gbm=metrics(test_data_x,test_data_y,srgt_gbm)\n",
        "  nrmse_xgb=metrics(test_data_x,test_data_y,srgt_xgb)\n",
        "  nrmse_group_1=[nrmse_prs,nrmse_rbf,nrmse_krg,nrmse_elastic_net,nrmse_svr,nrmse_gbm,nrmse_xgb]\n",
        "  return nrmse_group_1\n"
      ],
      "execution_count": null,
      "outputs": []
    },
    {
      "cell_type": "markdown",
      "metadata": {
        "id": "gy_T3m1d7fbX"
      },
      "source": [
        "# ***Solution of small Scale models***\n",
        "Q_5"
      ]
    },
    {
      "cell_type": "code",
      "metadata": {
        "id": "Bs2hAiU98hdi"
      },
      "source": [
        "bounds=np.array([[0,1],[0,1],[0,1]])\n",
        "n_doe=30 #n_doe=10*n, (n= number of input dimension= 3)\n",
        "n_test_doe=1000\n",
        "train_data=generate_data(bounds,n_doe,q_5) #q_5=test function for question 5\n",
        "test_data=generate_data(bounds,n_test_doe,q_5)\n",
        "srgts=group_1_srgts(train_data)\n",
        "srgt_prs=srgts[0]\n",
        "srgt_rbf=srgts[1]\n",
        "srgt_krg=srgts[2]\n",
        "srgt_elastic_net=srgts[5]\n",
        "srgt_svr=srgts[3]\n",
        "srgt_gbm=srgts[4]\n",
        "srgt_xgb=srgts[6]\n",
        "grp_1_metrics(test_data)\n"
      ],
      "execution_count": null,
      "outputs": []
    },
    {
      "cell_type": "markdown",
      "metadata": {
        "id": "ICvJl6Cr8i9m"
      },
      "source": [
        "Q_6"
      ]
    },
    {
      "cell_type": "code",
      "metadata": {
        "id": "Dw7KFFwv8pGP"
      },
      "source": [
        "bounds=np.array([[0,1],[0,1],[0,1],[0,1]])\n",
        "n_doe=40 #n_doe=10*n, (n= number of input dimension= 4)\n",
        "n_test_doe=1000\n",
        "train_data=generate_data(bounds,n_doe,q_6)\n",
        "srgts=group_1_srgts(train_data)\n",
        "test_data=generate_data(bounds,n_test_doe,q_6)\n",
        "srgt_prs=srgts[0]\n",
        "srgt_rbf=srgts[1]\n",
        "srgt_krg=srgts[2]\n",
        "srgt_elastic_net=srgts[5]\n",
        "srgt_svr=srgts[3]\n",
        "srgt_gbm=srgts[4]\n",
        "srgt_xgb=srgts[6]\n",
        "grp_1_metrics(test_data)\n"
      ],
      "execution_count": null,
      "outputs": []
    },
    {
      "cell_type": "markdown",
      "metadata": {
        "id": "0sG9agEW81pL"
      },
      "source": [
        "# ***solution of medium scale models***\n",
        "Q_11"
      ]
    },
    {
      "cell_type": "code",
      "metadata": {
        "id": "u9HOWXQu9Jy5"
      },
      "source": [
        "bounds=np.array([[30,60],[0.005,0.02],[0.002,0.01],[1000,5000],[9*10**4,11*10**4],[290,296],[340,360]])\n",
        "n_doe=70 #n_doe=10*n, (n= number of input dimension= 7)\n",
        "n_test_doe=1500\n",
        "train_data=generate_data(bounds,n_doe,q_11)\n",
        "train_data\n",
        "srgts=group_1_srgts(train_data)\n",
        "test_data=generate_data(bounds,n_test_doe,q_11)\n",
        "srgt_prs=srgts[0]\n",
        "srgt_rbf=srgts[1]\n",
        "srgt_krg=srgts[2]\n",
        "srgt_elastic_net=srgts[5]\n",
        "srgt_svr=srgts[3]\n",
        "srgt_gbm=srgts[4]\n",
        "srgt_xgb=srgts[6]\n",
        "grp_1_metrics(test_data)"
      ],
      "execution_count": null,
      "outputs": []
    },
    {
      "cell_type": "markdown",
      "metadata": {
        "id": "r2n7QKmU9KXb"
      },
      "source": [
        "q_12"
      ]
    },
    {
      "cell_type": "code",
      "metadata": {
        "id": "3W4vTLYp9SOI"
      },
      "source": [
        "pie=math.pi\n",
        "x=[0,2*pie]\n",
        "l=[0,1]\n",
        "bounds=np.array([x,x,x,x,l,l,l,l])\n",
        "n_doe=80 #n_doe=10*n, (n= number of input dimension= 8)\n",
        "n_test_doe=1500\n",
        "train_data=generate_data(bounds,n_doe,q_12)\n",
        "srgts=group_1_srgts(train_data)\n",
        "test_data=generate_data(bounds,n_test_doe,q_12)\n",
        "srgt_prs=srgts[0]\n",
        "srgt_rbf=srgts[1]\n",
        "srgt_krg=srgts[2]\n",
        "srgt_elastic_net=srgts[5]\n",
        "srgt_svr=srgts[3]\n",
        "srgt_gbm=srgts[4]\n",
        "srgt_xgb=srgts[6]\n",
        "grp_1_metrics(test_data)"
      ],
      "execution_count": null,
      "outputs": []
    },
    {
      "cell_type": "markdown",
      "metadata": {
        "id": "0s88Qo9H9p4y"
      },
      "source": [
        "# ***Large scale model solution***\n",
        "Q_17"
      ]
    },
    {
      "cell_type": "code",
      "metadata": {
        "id": "3amj4aMC97kT"
      },
      "source": [
        "l=[-10,10]\n",
        "bounds=np.array([l,l,l,l,l,l,l,l,l,l,l,l,l,l])\n",
        "n_doe=140 #n_doe=10*n, (n= number of input dimension= 14)\n",
        "n_test_doe=2000\n",
        "train_data=generate_data(bounds,n_doe,q_17)\n",
        "train_data\n",
        "srgts=group_1_srgts(train_data)\n",
        "test_data=generate_data(bounds,n_test_doe,q_17)\n",
        "srgt_prs=srgts[0]\n",
        "srgt_rbf=srgts[1]\n",
        "srgt_krg=srgts[2]\n",
        "srgt_elastic_net=srgts[5]\n",
        "srgt_svr=srgts[3]\n",
        "srgt_gbm=srgts[4]\n",
        "srgt_xgb=srgts[6]\n",
        "grp_1_metrics(test_data)"
      ],
      "execution_count": null,
      "outputs": []
    },
    {
      "cell_type": "markdown",
      "metadata": {
        "id": "SfDUIIxo977F"
      },
      "source": [
        "Q_18"
      ]
    },
    {
      "cell_type": "code",
      "metadata": {
        "id": "bbVKiLY09-EQ"
      },
      "source": [
        "l=[-5,10]\n",
        "bounds=np.array([l,l,l,l,l,l,l,l,l,l,l,l,l,l,l,l,l,l])\n",
        "n_doe=180 #n_doe=10*n, (n= number of input dimension= 18)\n",
        "n_test_doe=2000\n",
        "train_data=generate_data(bounds,n_doe,q_18)\n",
        "srgts=group_1_srgts(train_data)\n",
        "test_data=generate_data(bounds,n_test_doe,q_18)\n",
        "srgt_prs=srgts[0]\n",
        "srgt_rbf=srgts[1]\n",
        "srgt_krg=srgts[2]\n",
        "srgt_elastic_net=srgts[5]\n",
        "srgt_svr=srgts[3]\n",
        "srgt_gbm=srgts[4]\n",
        "srgt_xgb=srgts[6]\n",
        "grp_1_metrics(test_data)"
      ],
      "execution_count": null,
      "outputs": []
    },
    {
      "cell_type": "markdown",
      "metadata": {
        "id": "46-gHjNAtP_J"
      },
      "source": [
        "## ***Plotting the Metrics of the Metamodels***"
      ]
    },
    {
      "cell_type": "code",
      "metadata": {
        "id": "NiiZNtOKthgj",
        "colab": {
          "base_uri": "https://localhost:8080/",
          "height": 299
        },
        "outputId": "b9c8fb85-2ca9-491e-bd9b-110c8152a4d9"
      },
      "source": [
        "# The data are plotted against 6 test functions.\n",
        "#Each two from these six functions are small,medium and large scale problems respectively.\n",
        "import pandas as pd\n",
        "import seaborn as sns\n",
        "import matplotlib.pyplot as plt\n",
        "srgt_list=['prs','rbf','krg','elastic_net','svr','gbm','xgb','prs','rbf','krg','elastic_net','svr','gbm','xgb','prs','rbf','krg','elastic_net','svr','gbm','xgb','prs','rbf','krg','elastic_net','svr','gbm','xgb','prs','rbf','krg','elastic_net','svr','gbm','xgb','prs','rbf','krg','elastic_net','svr','gbm','xgb']\n",
        "scale=['small','small','small','small','small','small','small','small','small','small','small','small','small','small','medium','medium','medium','medium','medium','medium','medium','medium','medium','medium','medium','medium','medium','medium','large','large','large','large','large','large','large','large','large','large','large','large','large','large']\n",
        "nrmse_list=[0.1787,0.3364,0.3532,0.2892,0.3891,0.3245,0.3244,0.1412,0.2858,0.3392,0.2471,0.3202,0.2969,0.2943,0.0462,0.6237,0.2502,0.2461,0.2277,0.2386,0.2390,0.0158,0.2348,0.2359,0.2191,0.2222,0.2179,0.2167,0.1553,0.2389,0.2296,0.2495,0.1712,0.1937,0.1983,0.2468,0.2271,0.2095,0.2228,0.1549,0.1800,0.1827]\n",
        "df=pd.DataFrame({'meta_model':srgt_list,'nrmse':nrmse_list,'scale_type':scale})\n",
        "sns.set_style(\"whitegrid\")\n",
        "sns.swarmplot(x=\"meta_model\",y=\"nrmse\",hue=\"scale_type\",data=df,size=8)"
      ],
      "execution_count": null,
      "outputs": [
        {
          "output_type": "execute_result",
          "data": {
            "text/plain": [
              "<matplotlib.axes._subplots.AxesSubplot at 0x7f97bfcdb780>"
            ]
          },
          "metadata": {
            "tags": []
          },
          "execution_count": 2
        },
        {
          "output_type": "display_data",
          "data": {
            "image/png": "[encoded data removed]",
            "text/plain": [
              "<Figure size 432x288 with 1 Axes>"
            ]
          },
          "metadata": {
            "tags": []
          }
        }
      ]
    },
    {
      "cell_type": "markdown",
      "metadata": {
        "id": "uXzF_bmiyE03"
      },
      "source": [
        "# **performance of metamodels**\n",
        "1.for small scale functions with less number of DOEs all the models are having fairly higher nmrse with exception seen in polynomial response surface model. so prs performs well for small scale problem with less DOEs.  \n",
        "\n",
        "2.Elastic net model has same value of nrmse irrespective of the scale of the problems.  \n",
        "\n",
        "3.PRS performs well with low nrmse for medium scale problem. Other models perform better when scale of the problems are large."
      ]
    }
  ]
}